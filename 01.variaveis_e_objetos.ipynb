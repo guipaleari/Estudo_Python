{
 "cells": [
  {
   "cell_type": "code",
   "execution_count": 1,
   "metadata": {},
   "outputs": [
    {
     "name": "stdout",
     "output_type": "stream",
     "text": [
      "#Inteiro 1\n",
      "#Float: 1.1\n",
      "#String: Python\n",
      "#Lógica True\n",
      "#Lógica False\n"
     ]
    }
   ],
   "source": [
    "#Inteiro:\n",
    "x = 1\n",
    "print('#Inteiro', x)\n",
    "\n",
    "#Float:\n",
    "y = 1.1\n",
    "print('#Float:', y)\n",
    "\n",
    "#String:\n",
    "z = 'Python'\n",
    "print('#String:', z)\n",
    "\n",
    "#Lógica\n",
    "a = True\n",
    "b = False\n",
    "print('#Lógica', a)\n",
    "print('#Lógica', b)"
   ]
  },
  {
   "cell_type": "code",
   "execution_count": 2,
   "metadata": {},
   "outputs": [
    {
     "name": "stdout",
     "output_type": "stream",
     "text": [
      "30.0\n"
     ]
    }
   ],
   "source": [
    "#Calculadora:\n",
    "x = 10\n",
    "y = 20\n",
    "z = 100\n",
    "w = (x + y) * z /100\n",
    "print(w)"
   ]
  },
  {
   "cell_type": "code",
   "execution_count": 3,
   "metadata": {},
   "outputs": [
    {
     "name": "stdout",
     "output_type": "stream",
     "text": [
      "Este texto será exibido no console: \n",
      "10\n",
      "Agora este texto com duas variáveis:  10  +  20  =  30\n"
     ]
    }
   ],
   "source": [
    "#Exibir texto no Console:\n",
    "print('Este texto será exibido no console: ')\n",
    "print(x)\n",
    "\n",
    "print('Agora este texto com duas variáveis: ', x, \" + \", y, ' = ', x+y)"
   ]
  },
  {
   "cell_type": "code",
   "execution_count": 4,
   "metadata": {},
   "outputs": [
    {
     "name": "stdout",
     "output_type": "stream",
     "text": [
      "<class 'int'>\n",
      "<class 'float'>\n",
      "<class 'str'>\n",
      "<class 'bool'>\n"
     ]
    }
   ],
   "source": [
    "#Para averiguar o tipo da variável, basta usar o comando \"type\":\n",
    "e = 1\n",
    "print(type(e))\n",
    "\n",
    "f = 1.1\n",
    "print(type(f))\n",
    "\n",
    "g = 'Texto string'\n",
    "print(type(g))\n",
    "\n",
    "h = True\n",
    "print(type(h))"
   ]
  },
  {
   "cell_type": "code",
   "execution_count": 5,
   "metadata": {},
   "outputs": [
    {
     "name": "stdout",
     "output_type": "stream",
     "text": [
      "Digite um número: \n",
      "<class 'str'>\n",
      "<class 'str'>\n",
      "Digite um número:  2\n",
      "<class 'str'>\n"
     ]
    }
   ],
   "source": [
    "#Entrada de valores para o usuário digitar:\n",
    "print('Digite um número: ')\n",
    "i = input()\n",
    "print(type(i))\n",
    "\n",
    "#De forma mais simplificada:\n",
    "i = input(\"Digite um número: \")\n",
    "print(type(i))\n",
    "\n",
    "#De forma mais simplificada:\n",
    "input(print(\"Digite um número: \", i))\n",
    "print(type(i))"
   ]
  },
  {
   "cell_type": "code",
   "execution_count": 6,
   "metadata": {},
   "outputs": [
    {
     "name": "stdout",
     "output_type": "stream",
     "text": [
      "<class 'str'>\n",
      "<class 'int'>\n",
      "<class 'float'>\n"
     ]
    }
   ],
   "source": [
    "#Agora convertendo os valores para Inteiro:\n",
    "var = input('Digite o valor: ')\n",
    "print(type(var))\n",
    "\n",
    "var = int(var)\n",
    "print(type(var))\n",
    "\n",
    "var = float(var)\n",
    "print(type(var))"
   ]
  }
 ],
 "metadata": {
  "kernelspec": {
   "display_name": "Python 3.9.12 ('base')",
   "language": "python",
   "name": "python3"
  },
  "language_info": {
   "codemirror_mode": {
    "name": "ipython",
    "version": 3
   },
   "file_extension": ".py",
   "mimetype": "text/x-python",
   "name": "python",
   "nbconvert_exporter": "python",
   "pygments_lexer": "ipython3",
   "version": "3.9.12"
  },
  "orig_nbformat": 4,
  "vscode": {
   "interpreter": {
    "hash": "bb1809f004956f83e96d80832f161ee3c7ade7e4954ac58ab47f4200d7846305"
   }
  }
 },
 "nbformat": 4,
 "nbformat_minor": 2
}
