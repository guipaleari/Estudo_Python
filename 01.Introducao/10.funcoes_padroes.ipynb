{
 "cells": [
  {
   "cell_type": "code",
   "execution_count": 11,
   "metadata": {},
   "outputs": [
    {
     "name": "stdout",
     "output_type": "stream",
     "text": [
      "200\n",
      "Maior:  45\n",
      "Menor:  1\n",
      "Soma:  108\n",
      "Arredondamento:  2.35\n"
     ]
    }
   ],
   "source": [
    "# Funções internas:\n",
    "print(abs(-200)) # ← abs retorna o valor absoluto\n",
    "lst = [1, 2, 30, 30, 45]\n",
    "print('Maior: ', max(lst))\n",
    "print('Menor: ', min(lst))\n",
    "print('Soma: ', sum(lst))\n",
    "print('Arredondamento: ', round(2.34567, 2 ))\n"
   ]
  },
  {
   "cell_type": "code",
   "execution_count": 12,
   "metadata": {},
   "outputs": [
    {
     "name": "stdout",
     "output_type": "stream",
     "text": [
      "Média:  21.6\n",
      "Mediana:  30\n",
      "Soma:  30\n",
      "Desvio Padrão:  19.346834366376324\n",
      "Variância:  374.3\n"
     ]
    }
   ],
   "source": [
    "# Funções externas:\n",
    "from statistics import *\n",
    "print('Média: ', mean(lst))\n",
    "print('Mediana: ', median(lst))\n",
    "print('Soma: ', mode(lst))\n",
    "print('Desvio Padrão: ', stdev(lst))\n",
    "print('Variância: ', variance(lst))"
   ]
  },
  {
   "cell_type": "code",
   "execution_count": 15,
   "metadata": {},
   "outputs": [
    {
     "name": "stdout",
     "output_type": "stream",
     "text": [
      "<class 'numpy.ndarray'>\n",
      "[[0.64201167 0.7444828  0.6518201  0.55705514 0.82824941 0.05477357\n",
      "  0.39277628 0.03214544]\n",
      " [0.47466461 0.8856589  0.06860431 0.50774679 0.24286514 0.29507422\n",
      "  0.15145392 0.74588207]\n",
      " [0.51351564 0.8854943  0.74005469 0.83159453 0.08515965 0.71208163\n",
      "  0.64914598 0.04472918]\n",
      " [0.53082285 0.68233196 0.55184314 0.94679611 0.00594888 0.10848023\n",
      "  0.76807494 0.76235621]\n",
      " [0.38893917 0.89209466 0.558418   0.05503054 0.2409657  0.22652948\n",
      "  0.92088284 0.51346559]\n",
      " [0.07035411 0.2660595  0.48631966 0.85258154 0.56514628 0.25772415\n",
      "  0.12407225 0.58771823]\n",
      " [0.91693129 0.85839677 0.33344159 0.05504869 0.80056428 0.78996003\n",
      "  0.75531094 0.67696958]\n",
      " [0.91535855 0.60464456 0.35867257 0.8495132  0.4489842  0.67802425\n",
      "  0.4555334  0.17400017]]\n"
     ]
    }
   ],
   "source": [
    "from numpy import *\n",
    "a = random.random((8, 8))\n",
    "print(type(a))\n",
    "print(a)"
   ]
  },
  {
   "cell_type": "code",
   "execution_count": null,
   "metadata": {},
   "outputs": [],
   "source": []
  }
 ],
 "metadata": {
  "kernelspec": {
   "display_name": "Python 3.9.12 ('base')",
   "language": "python",
   "name": "python3"
  },
  "language_info": {
   "codemirror_mode": {
    "name": "ipython",
    "version": 3
   },
   "file_extension": ".py",
   "mimetype": "text/x-python",
   "name": "python",
   "nbconvert_exporter": "python",
   "pygments_lexer": "ipython3",
   "version": "3.9.12"
  },
  "orig_nbformat": 4,
  "vscode": {
   "interpreter": {
    "hash": "bb1809f004956f83e96d80832f161ee3c7ade7e4954ac58ab47f4200d7846305"
   }
  }
 },
 "nbformat": 4,
 "nbformat_minor": 2
}
