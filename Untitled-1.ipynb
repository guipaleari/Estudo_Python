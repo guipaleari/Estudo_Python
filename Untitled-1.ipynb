{
 "cells": [
  {
   "cell_type": "code",
   "execution_count": 5,
   "metadata": {},
   "outputs": [
    {
     "name": "stdout",
     "output_type": "stream",
     "text": [
      "#Inteiro 1\n",
      "#Float: 1.1\n",
      "#String: Python\n",
      "#Lógica True\n",
      "#Lógica False\n"
     ]
    }
   ],
   "source": [
    "#Inteiro:\n",
    "x = 1\n",
    "print('#Inteiro', x)\n",
    "\n",
    "#Float:\n",
    "y = 1.1\n",
    "print('#Float:', y)\n",
    "\n",
    "#String:\n",
    "z = 'Python'\n",
    "print('#String:', z)\n",
    "\n",
    "#Lógica\n",
    "a = True\n",
    "b = False\n",
    "print('#Lógica', a)\n",
    "print('#Lógica', b)\n"
   ]
  },
  {
   "cell_type": "code",
   "execution_count": 6,
   "metadata": {},
   "outputs": [
    {
     "name": "stdout",
     "output_type": "stream",
     "text": [
      "30.0\n"
     ]
    }
   ],
   "source": [
    "#Calculadora:\n",
    "x = 10\n",
    "y = 20\n",
    "z = 100\n",
    "w = (x + y) * z /100\n",
    "print(w)"
   ]
  },
  {
   "cell_type": "code",
   "execution_count": 2,
   "metadata": {},
   "outputs": [
    {
     "data": {
      "text/plain": [
       "2"
      ]
     },
     "execution_count": 2,
     "metadata": {},
     "output_type": "execute_result"
    }
   ],
   "source": [
    "x"
   ]
  }
 ],
 "metadata": {
  "kernelspec": {
   "display_name": "Python 3.9.12 ('base')",
   "language": "python",
   "name": "python3"
  },
  "language_info": {
   "codemirror_mode": {
    "name": "ipython",
    "version": 3
   },
   "file_extension": ".py",
   "mimetype": "text/x-python",
   "name": "python",
   "nbconvert_exporter": "python",
   "pygments_lexer": "ipython3",
   "version": "3.9.12"
  },
  "orig_nbformat": 4,
  "vscode": {
   "interpreter": {
    "hash": "bb1809f004956f83e96d80832f161ee3c7ade7e4954ac58ab47f4200d7846305"
   }
  }
 },
 "nbformat": 4,
 "nbformat_minor": 2
}
