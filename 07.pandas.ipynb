{
 "cells": [
  {
   "cell_type": "code",
   "execution_count": null,
   "metadata": {},
   "outputs": [],
   "source": []
  },
  {
   "cell_type": "markdown",
   "metadata": {},
   "source": [
    "# Pandas:\n",
    "\n",
    "Oferece estruturas de dados e ferramentas de análise de dados de alto desempenho, rápidas e fáceis de usar para manipular dados numéricos e séries temporais. \n",
    "Pandas é construído sobre a biblioteca numpy e escrito em linguagens como Python , Cython e C. \n",
    "No pandas, podemos importar dados de vários formatos de arquivo como JSON, SQL, Microsoft Excel, etc.\n",
    "\n",
    "https://acervolima.com/diferenca-entre-pandas-vs-numpy/\n",
    "\n"
   ]
  },
  {
   "cell_type": "markdown",
   "metadata": {},
   "source": []
  }
 ],
 "metadata": {
  "language_info": {
   "name": "python"
  },
  "orig_nbformat": 4
 },
 "nbformat": 4,
 "nbformat_minor": 2
}
