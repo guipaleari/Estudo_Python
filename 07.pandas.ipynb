{
 "cells": [
  {
   "cell_type": "markdown",
   "metadata": {},
   "source": [
    "# Pandas:\n",
    "\n",
    "Oferece estruturas de dados e ferramentas de análise de dados de alto desempenho, rápidas e fáceis de usar para manipular dados numéricos e séries temporais. \n",
    "Pandas é construído sobre a biblioteca numpy e escrito em linguagens como Python , Cython e C. \n",
    "No pandas, podemos importar dados de vários formatos de arquivo como JSON, SQL, Microsoft Excel, etc.\n",
    "\n",
    "https://acervolima.com/diferenca-entre-pandas-vs-numpy/\n",
    "\n"
   ]
  },
  {
   "cell_type": "code",
   "execution_count": 22,
   "metadata": {},
   "outputs": [],
   "source": [
    "import pandas as pd"
   ]
  },
  {
   "cell_type": "code",
   "execution_count": 23,
   "metadata": {},
   "outputs": [
    {
     "name": "stdout",
     "output_type": "stream",
     "text": [
      "    checking_status  duration         credit_history purpose  credit_amount  \\\n",
      "915        0<=X<200        48  'no credits/all paid'   other          18424   \n",
      "\n",
      "    savings_status employment  installment_commitment       personal_status  \\\n",
      "915           <100     1<=X<4                       1  'female div/dep/mar'   \n",
      "\n",
      "    other_parties  ...  property_magnitude age  other_payment_plans housing  \\\n",
      "915          none  ...    'life insurance'  32                 bank     own   \n",
      "\n",
      "    existing_credits                          job num_dependents  \\\n",
      "915                1  'high qualif/self emp/mgmt'              1   \n",
      "\n",
      "     own_telephone foreign_worker class  \n",
      "915            yes             no   bad  \n",
      "\n",
      "[1 rows x 21 columns]\n",
      "    checking_status  duration\n",
      "915        0<=X<200        48\n"
     ]
    }
   ],
   "source": [
    "# Carregar o arquivo .csv para Pandas DataFrame → READ_CSV:\n",
    "dados = pd.read_csv('Credit.csv')\n",
    "\n",
    "# Quantidade de linhas e colunas → SHAPE:\n",
    "dados.shape\n",
    "\n",
    "# Resumir estatisticamente as colunas numéricas → DESCRIBE:\n",
    "dados.describe()\n",
    "\n",
    "# Exibir apenas os 5 primeiros registros → HEAD:\n",
    "dados.head()\n",
    "\n",
    "# Exibir apenas os 5 últimos registros → TAIL:\n",
    "dados.tail()\n",
    "\n",
    "# Filtrar por nome da coluna:\n",
    "dados['duration']\n",
    "\n",
    "# Filtrar linhas por intercalo → LOC[ : ]:\n",
    "dados.loc[3:6]\n",
    "\n",
    "# Filtrar linhas por elementos → LOC[[ , ]]:\n",
    "dados.loc[[3,6]]\n",
    "\n",
    "# Aplicar filtro na coluna:\n",
    "dados.loc[dados['purpose'] == \"radio/tv\"]\n",
    "\n",
    "# Aplicar filtro na coluna usando uma condição:\n",
    "dados.loc[dados['credit_amount'] > 18000]\n",
    "\n",
    "# Armazenar dados filtrados em um novo DataFrame:\n",
    "credito1 = dados.loc[dados['credit_amount'] > 18000]\n",
    "print(credito1)\n",
    "\n",
    "# Armazenar dados filtrados em um novo DataFrame com mais colunas:\n",
    "credito2 = dados[['checking_status', 'duration']].loc[dados['credit_amount'] > 18000]\n",
    "print(credito2)\n",
    "\n",
    "\n"
   ]
  },
  {
   "cell_type": "code",
   "execution_count": 29,
   "metadata": {},
   "outputs": [
    {
     "name": "stdout",
     "output_type": "stream",
     "text": [
      "0     2\n",
      "1     5\n",
      "2     3\n",
      "3    34\n",
      "4    54\n",
      "5    23\n",
      "6     1\n",
      "7    16\n",
      "dtype: int64 \n",
      "\n",
      "0     2\n",
      "1     5\n",
      "2     3\n",
      "3    34\n",
      "4    54\n",
      "5    23\n",
      "6     1\n",
      "7    16\n",
      "dtype: int32 \n",
      "\n",
      "0                 radio/tv\n",
      "1                 radio/tv\n",
      "2                education\n",
      "3      furniture/equipment\n",
      "4                'new car'\n",
      "              ...         \n",
      "995    furniture/equipment\n",
      "996             'used car'\n",
      "997               radio/tv\n",
      "998               radio/tv\n",
      "999             'used car'\n",
      "Name: purpose, Length: 1000, dtype: object\n"
     ]
    },
    {
     "data": {
      "text/plain": [
       "pandas.core.series.Series"
      ]
     },
     "execution_count": 29,
     "metadata": {},
     "output_type": "execute_result"
    }
   ],
   "source": [
    "# Séries temporais em uma única coluna:\n",
    "series1 = pd.Series([2, 5, 3, 34, 54, 23, 1, 16])\n",
    "print(series1, '\\n')\n",
    "\n",
    "# Séries temporais a partir do NumPy:\n",
    "import numpy as np\n",
    "matriz = np.array([2, 5, 3, 34, 54, 23, 1, 16])\n",
    "series2 = pd.Series(matriz)\n",
    "print(series2, '\\n')\n",
    "\n",
    "# Séries temporais a partir de um DataFrame:\n",
    "series3 = dados['purpose']\n",
    "print(series3)\n",
    "type(series3)\n"
   ]
  },
  {
   "cell_type": "code",
   "execution_count": 30,
   "metadata": {},
   "outputs": [
    {
     "name": "stdout",
     "output_type": "stream",
     "text": [
      "0                 radio/tv\n",
      "1                 radio/tv\n",
      "2                education\n",
      "3      furniture/equipment\n",
      "4                'new car'\n",
      "              ...         \n",
      "995    furniture/equipment\n",
      "996             'used car'\n",
      "997               radio/tv\n",
      "998               radio/tv\n",
      "999             'used car'\n",
      "Name: purpose, Length: 1000, dtype: object\n"
     ]
    },
    {
     "data": {
      "text/plain": [
       "pandas.core.series.Series"
      ]
     },
     "execution_count": 30,
     "metadata": {},
     "output_type": "execute_result"
    }
   ],
   "source": [
    "# Séries temporais a partir de um DataFrame:\n",
    "series3 = dados['purpose']\n",
    "print(series3)\n",
    "type(series3)"
   ]
  },
  {
   "cell_type": "code",
   "execution_count": null,
   "metadata": {},
   "outputs": [],
   "source": [
    "# Séries temporais a partir de um DataFrame:\n",
    "series4 = dados['purpose']\n",
    "print(series4)\n",
    "type(series4)"
   ]
  }
 ],
 "metadata": {
  "kernelspec": {
   "display_name": "Python 3.9.12 ('base')",
   "language": "python",
   "name": "python3"
  },
  "language_info": {
   "codemirror_mode": {
    "name": "ipython",
    "version": 3
   },
   "file_extension": ".py",
   "mimetype": "text/x-python",
   "name": "python",
   "nbconvert_exporter": "python",
   "pygments_lexer": "ipython3",
   "version": "3.9.12"
  },
  "orig_nbformat": 4,
  "vscode": {
   "interpreter": {
    "hash": "bb1809f004956f83e96d80832f161ee3c7ade7e4954ac58ab47f4200d7846305"
   }
  }
 },
 "nbformat": 4,
 "nbformat_minor": 2
}
